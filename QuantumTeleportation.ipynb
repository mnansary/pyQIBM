{
 "cells": [
  {
   "cell_type": "markdown",
   "metadata": {},
   "source": [
    "# Quantum teleportation\n",
    "\n",
    "        MD.Nazmuddoha Ansary  \n",
    "        Quamtum Computing with IBM Q Experience   \n",
    "        \n",
    "\n",
    "**Quantum teleportation** is a process in which quantum information *(e.g. the exact state of an atom or photon)* can be transmitted (exactly, in principle) from one location to another, with the help of classical communication and previously shared quantum entanglement between the sending and receiving location. Because it depends on classical communication, which can proceed no faster than the speed of light, it cannot be used for faster-than-light transport or communication of classical bits. [source](https://en.wikipedia.org/wiki/Quantum_teleportation)\n",
    "\n",
    "**PLEASE NOTE THAT:**\n",
    "* This **Does NOT** mean we can trasnport a **qbit physically from one place to another**\n",
    "* This is a tranformation of **quantum information** from one place to another\n",
    "\n",
    "### BUT WHATS SO IMPORTATNT ABOUT THIS?\n",
    "Well, in a classical computer we copy stuff from one place to another with absolutely no issue. But in a **Quantum Computer** you are actually not allowed to copy because the moment you try to copy you perfom an actual **measurement** which destroys the original states.So to copy the states we need to take advantage of **entanglement**. [Quantum Entanglement](https://en.wikipedia.org/wiki/Quantum_entanglement) \n",
    "\n",
    "**THE CODE IS STRICTLY BASED ON OFFICIAL QISKIT TUTORIALS.**\n",
    "[QISKIT-COMMUNITY-TUTORIALS](https://github.com/Qiskit/qiskit-community-tutorials)"
   ]
  },
  {
   "cell_type": "code",
   "execution_count": 1,
   "metadata": {},
   "outputs": [
    {
     "data": {
      "text/plain": [
       "{'qiskit-terra': '0.10.0',\n",
       " 'qiskit-aer': '0.3.2',\n",
       " 'qiskit-ignis': '0.2.0',\n",
       " 'qiskit-ibmq-provider': '0.3.3',\n",
       " 'qiskit-aqua': '0.6.1',\n",
       " 'qiskit': '0.13.0'}"
      ]
     },
     "execution_count": 1,
     "metadata": {},
     "output_type": "execute_result"
    }
   ],
   "source": [
    "# import qiskit and check versions\n",
    "import qiskit\n",
    "qiskit.__qiskit_version__"
   ]
  },
  {
   "cell_type": "code",
   "execution_count": 2,
   "metadata": {},
   "outputs": [
    {
     "name": "stdout",
     "output_type": "stream",
     "text": [
      "Text Based Circuit\n"
     ]
    },
    {
     "data": {
      "text/html": [
       "<pre style=\"word-wrap: normal;white-space: pre;background: #fff0;line-height: 1.1;font-family: &quot;Courier New&quot;,Courier,monospace\">        \n",
       "q_0: |0>\n",
       "        \n",
       "q_1: |0>\n",
       "        \n",
       "q_2: |0>\n",
       "        \n",
       " c_0: 0 \n",
       "        \n",
       " c_1: 0 \n",
       "        \n",
       " c_2: 0 \n",
       "        </pre>"
      ],
      "text/plain": [
       "<qiskit.visualization.text.TextDrawing at 0x7f3765d27400>"
      ]
     },
     "execution_count": 2,
     "metadata": {},
     "output_type": "execute_result"
    }
   ],
   "source": [
    "# Build a quntum circuit for teleportaion\n",
    "from qiskit import *\n",
    "%matplotlib inline\n",
    "num_of_classical_bits=3\n",
    "num_of_quantum_bits=3\n",
    "circuit=QuantumCircuit(num_of_quantum_bits,num_of_classical_bits)\n",
    "print('Text Based Circuit')\n",
    "circuit.draw()"
   ]
  },
  {
   "cell_type": "markdown",
   "metadata": {},
   "source": [
    "Another way to create a quantum circuit is to get **registers**\n",
    "* ```qr=QuantumRegister(NUM_OF_REGISTERS)```\n",
    "* ```cr=ClassicalRegister(NUM_OF_REGISTERS)```  \n",
    "\n",
    "and pass the in the **QuantumCircuit(qr,cr)** \n",
    "\n",
    "### Teleportation Circuit\n",
    "* We will take the state at **q_0** and teleport it to **q_2**\n",
    "* **q_1** is a resource we will use to do this process\n",
    "* For simplicity we will teleport the state **1** from q0 to q2\n",
    "* To get state 0 to state 1 we will apply **x-gate** to q0\n",
    "\n",
    "**Pauli X-Gate**: \n",
    "The Pauli-X gate acts on a single qubit. It is the quantum equivalent of the NOT gate for classical computers."
   ]
  },
  {
   "cell_type": "code",
   "execution_count": 3,
   "metadata": {},
   "outputs": [
    {
     "data": {
      "image/png": "[encoded data removed]",
      "text/plain": [
       "<Figure size 276.92x264.88 with 1 Axes>"
      ]
     },
     "execution_count": 3,
     "metadata": {},
     "output_type": "execute_result"
    }
   ],
   "source": [
    "circuit.x(0)\n",
    "circuit.barrier()\n",
    "circuit.draw(output='mpl')"
   ]
  },
  {
   "cell_type": "markdown",
   "metadata": {},
   "source": [
    "Now after applying **xgate** to qo , after the barrier the state will be 1.\n",
    "\n",
    "### Teleportation protocol\n",
    "* Apply a **Hadamard gate** on **q1**\n",
    "* Apply a **Controlled X gate** between **q1** and **q2**\n",
    "* Apply a **Controlled X gate** between **q0** and **q1**\n",
    "* Apply a **Hadamard gate** on **q1**\n",
    "* Take measurements from **q0** and **q1** and set them to classical registers\n",
    "* Apply a **Controlled X gate** between **q1** and **q2**\n",
    "* Apply a **Controlled Z gate** between **q0** and **q2**\n",
    " \n",
    "\n",
    "\n",
    "Please find the gate introductions in [Quantum Logic Gate](https://en.wikipedia.org/wiki/Quantum_logic_gate)\n"
   ]
  },
  {
   "cell_type": "code",
   "execution_count": 4,
   "metadata": {},
   "outputs": [
    {
     "data": {
      "image/png": "[encoded data removed]",
      "text/plain": [
       "<Figure size 397.32x264.88 with 1 Axes>"
      ]
     },
     "execution_count": 4,
     "metadata": {},
     "output_type": "execute_result"
    }
   ],
   "source": [
    "circuit.h(1)\n",
    "circuit.cx(1,2)\n",
    "circuit.draw(output='mpl')"
   ]
  },
  {
   "cell_type": "code",
   "execution_count": 5,
   "metadata": {},
   "outputs": [
    {
     "data": {
      "text/plain": [
       "<qiskit.circuit.instructionset.InstructionSet at 0x7f37039a82b0>"
      ]
     },
     "execution_count": 5,
     "metadata": {},
     "output_type": "execute_result"
    }
   ],
   "source": [
    "circuit.cx(0,1)\n",
    "circuit.h(0)\n",
    "circuit.barrier()\n",
    "circuit.measure([0,1],[0,1]) # measurements to classical registers\n",
    "circuit.barrier()\n",
    "circuit.cx(1,2)\n",
    "circuit.cz(0,2)\n",
    "circuit.draw(output='mpl')\n",
    "circuit.measure(2,2)       # measurements to classical registers\n"
   ]
  },
  {
   "cell_type": "markdown",
   "metadata": {},
   "source": [
    "Now the **state 1** after the **xgate** for **q0** will be now be transported to **q2**\n",
    "To verify this-\n",
    "* Add a measurement to q2 to classical reg: 2 \n",
    "* Simulate for N number of shots"
   ]
  },
  {
   "cell_type": "code",
   "execution_count": 6,
   "metadata": {},
   "outputs": [
    {
     "name": "stdout",
     "output_type": "stream",
     "text": [
      "Counts:{'101': 283, '111': 274, '100': 241, '110': 226}\n"
     ]
    },
    {
     "data": {
      "image/png": "[encoded data removed]",
      "text/plain": [
       "<Figure size 504x360 with 1 Axes>"
      ]
     },
     "execution_count": 6,
     "metadata": {},
     "output_type": "execute_result"
    }
   ],
   "source": [
    "from qiskit.tools.visualization import plot_histogram\n",
    "\n",
    " \n",
    "\n",
    "# now simulate to see the results\n",
    "simulator=Aer.get_backend('qasm_simulator')\n",
    "\n",
    "result=execute(circuit,backend=simulator,shots=1024).result()\n",
    "\n",
    "counts=result.get_counts()\n",
    "\n",
    "print('Counts:{}'.format(counts))\n",
    "plot_histogram(counts)"
   ]
  },
  {
   "cell_type": "markdown",
   "metadata": {},
   "source": [
    "### Understanding the results\n",
    "* The count results are read as **c2c1c0** \n",
    "* We are only interested in **c2** as that is what is measuring **q2**\n",
    "* So we are only getting results when **c2=1** *(i.e-001,010,000,011 return no results)* \n",
    "\n",
    "### So what should be done to pass another quantum state??\n",
    "say you want to pass the state **(0-1)/sqroot(2)** \n",
    "* Apply **x gate** : |0> ==> |1>\n",
    "* Apply **Hadamard**: |1> ==> (|0> - |1>)/ sqroot(2)\n",
    "* Now pass it through the transmission protocol\n",
    "\n",
    "## Running On Real IBM - Q Hardware\n",
    "* Get Access Token From IBM Q experience\n",
    "* Load Account\n",
    "* Get Backend\n",
    "* Execute Like Normal circuit"
   ]
  },
  {
   "cell_type": "code",
   "execution_count": 7,
   "metadata": {},
   "outputs": [],
   "source": [
    "from qiskit import IBMQ\n",
    "IBMQ.load_account()\n",
    "provider = IBMQ.get_provider(hub = 'ibm-q')"
   ]
  },
  {
   "cell_type": "code",
   "execution_count": 8,
   "metadata": {},
   "outputs": [
    {
     "data": {
      "application/vnd.jupyter.widget-view+json": {
       "model_id": "bc73497526454319b6255b7822273bd6",
       "version_major": 2,
       "version_minor": 0
      },
      "text/plain": [
       "Accordion(children=(VBox(layout=Layout(max_width='710px', min_width='710px')),), layout=Layout(max_height='500…"
      ]
     },
     "metadata": {},
     "output_type": "display_data"
    },
    {
     "data": {
      "application/javascript": [
       "$('div.job_widget')\n",
       "        .detach()\n",
       "        .appendTo($('#header'))\n",
       "        .css({\n",
       "            'z-index': 999,\n",
       "             'position': 'fixed',\n",
       "            'box-shadow': '5px 5px 5px -3px black',\n",
       "            'opacity': 0.95,\n",
       "            'float': 'left,'\n",
       "        })\n",
       "        "
      ],
      "text/plain": [
       "<IPython.core.display.Javascript object>"
      ]
     },
     "metadata": {},
     "output_type": "display_data"
    }
   ],
   "source": [
    "import qiskit.tools.jupyter\n",
    "%qiskit_job_watcher\n",
    "# get comp\n",
    "qcomp = provider.get_backend('ibmq_16_melbourne')\n",
    "# execute\n",
    "job = execute(circuit, backend=qcomp)"
   ]
  },
  {
   "cell_type": "code",
   "execution_count": 9,
   "metadata": {},
   "outputs": [
    {
     "name": "stdout",
     "output_type": "stream",
     "text": [
      "Job Status: job has successfully run\n"
     ]
    }
   ],
   "source": [
    "from qiskit.tools.monitor import job_monitor\n",
    "job_monitor(job)"
   ]
  },
  {
   "cell_type": "code",
   "execution_count": 10,
   "metadata": {},
   "outputs": [
    {
     "data": {
      "image/png": "[encoded data removed]",
      "text/plain": [
       "<Figure size 504x360 with 1 Axes>"
      ]
     },
     "execution_count": 10,
     "metadata": {},
     "output_type": "execute_result"
    }
   ],
   "source": [
    "result = job.result()\n",
    "plot_histogram(result.get_counts(circuit))"
   ]
  },
  {
   "cell_type": "code",
   "execution_count": 11,
   "metadata": {},
   "outputs": [],
   "source": [
    "%qiskit_disable_job_watcher"
   ]
  },
  {
   "cell_type": "code",
   "execution_count": 12,
   "metadata": {},
   "outputs": [
    {
     "data": {
      "text/html": [
       "<div style='width: 100%; background-color:#d5d9e0;padding-left: 10px; padding-bottom: 10px; padding-right: 10px; padding-top: 5px'><h3>This code is a part of Qiskit</h3><p>&copy; Copyright IBM 2017, 2019.</p><p>This code is licensed under the Apache License, Version 2.0. You may<br>obtain a copy of this license in the LICENSE.txt file in the root directory<br> of this source tree or at http://www.apache.org/licenses/LICENSE-2.0.<p>Any modifications or derivative works of this code must retain this<br>copyright notice, and modified files need to carry a notice indicating<br>that they have been altered from the originals.</p></div>"
      ],
      "text/plain": [
       "<IPython.core.display.HTML object>"
      ]
     },
     "metadata": {},
     "output_type": "display_data"
    }
   ],
   "source": [
    "%qiskit_copyright"
   ]
  },
  {
   "cell_type": "code",
   "execution_count": null,
   "metadata": {},
   "outputs": [],
   "source": []
  }
 ],
 "metadata": {
  "kernelspec": {
   "display_name": "venv",
   "language": "python",
   "name": "venv"
  },
  "language_info": {
   "codemirror_mode": {
    "name": "ipython",
    "version": 3
   },
   "file_extension": ".py",
   "mimetype": "text/x-python",
   "name": "python",
   "nbconvert_exporter": "python",
   "pygments_lexer": "ipython3",
   "version": "3.6.9"
  }
 },
 "nbformat": 4,
 "nbformat_minor": 2
}
